{
    "cells": [
        {
            "metadata": {
                "collapsed": true
            },
            "cell_type": "markdown",
            "source": "# Project - Business Expansion to California from NYC"
        },
        {
            "metadata": {},
            "cell_type": "markdown",
            "source": "#### The purpose of this project is to establish a plan for expansion of a business to a location outside of NYC. Here is the problem:"
        },
        {
            "metadata": {},
            "cell_type": "markdown",
            "source": "*A company that provides arts and crafts classes, lessons, supplies, and toys for kids in NYC is currently looking to possibly expand to a new city, preferably in California. The owner has identified that the methods and business model are successful due to the unique culture of their location, The Upper East of NYC. This is due to the lack of space, high income level of the clientelle, and the weather tending to be less ideal for outdoor activities.* \n\n*In order to keep the soul of the company intact, they would like to find a neighborhood or area in a city in California that resembles their current neighborhood the most. For this project we will simplify the problem as follows:*"
        },
        {
            "metadata": {},
            "cell_type": "markdown",
            "source": "**Problem:** In order to streamline an expansion to California for a given company, what neighborhood in either San Fransisco or Los Angeles most resembles \"The Upper East\" of NYC in regard to venues?"
        },
        {
            "metadata": {},
            "cell_type": "markdown",
            "source": "#### Data to be used:\n\n- Foursquare Venue Data\n- Census data (Average Income)"
        },
        {
            "metadata": {},
            "cell_type": "markdown",
            "source": "This Data will be used to characterize the clientelle and demographics for the "
        }
    ],
    "metadata": {
        "kernelspec": {
            "name": "python3",
            "display_name": "Python 3.6",
            "language": "python"
        },
        "language_info": {
            "name": "python",
            "version": "3.6.8",
            "mimetype": "text/x-python",
            "codemirror_mode": {
                "name": "ipython",
                "version": 3
            },
            "pygments_lexer": "ipython3",
            "nbconvert_exporter": "python",
            "file_extension": ".py"
        }
    },
    "nbformat": 4,
    "nbformat_minor": 1
}